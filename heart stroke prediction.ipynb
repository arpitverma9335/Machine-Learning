{
 "cells": [
  {
   "cell_type": "markdown",
   "metadata": {},
   "source": [
    "<h1 style=\"color:green\">Stroke Prediction</h1>"
   ]
  },
  {
   "cell_type": "code",
   "execution_count": 3,
   "metadata": {},
   "outputs": [],
   "source": [
    "import pandas as pd\n",
    "import numpy as np\n",
    "import matplotlib.pyplot as plt\n",
    "import seaborn as scn"
   ]
  },
  {
   "cell_type": "code",
   "execution_count": 4,
   "metadata": {},
   "outputs": [
    {
     "data": {
      "text/plain": [
       "(5110, 12)"
      ]
     },
     "execution_count": 4,
     "metadata": {},
     "output_type": "execute_result"
    }
   ],
   "source": [
    "df = pd.read_csv(\"L://python//stroke.csv\")\n",
    "#df.head(10)\n",
    "df.shape"
   ]
  },
  {
   "cell_type": "code",
   "execution_count": 5,
   "metadata": {},
   "outputs": [
    {
     "data": {
      "text/plain": [
       "Index(['id', 'gender', 'age', 'hypertension', 'heart_disease', 'ever_married',\n",
       "       'work_type', 'Residence_type', 'avg_glucose_level', 'bmi',\n",
       "       'smoking_status', 'stroke'],\n",
       "      dtype='object')"
      ]
     },
     "execution_count": 5,
     "metadata": {},
     "output_type": "execute_result"
    }
   ],
   "source": [
    "df.columns"
   ]
  },
  {
   "cell_type": "code",
   "execution_count": 6,
   "metadata": {},
   "outputs": [
    {
     "data": {
      "text/plain": [
       "0    4861\n",
       "1     249\n",
       "Name: stroke, dtype: int64"
      ]
     },
     "execution_count": 6,
     "metadata": {},
     "output_type": "execute_result"
    }
   ],
   "source": [
    "df['stroke'].value_counts()"
   ]
  },
  {
   "cell_type": "code",
   "execution_count": 7,
   "metadata": {},
   "outputs": [],
   "source": [
    "df.dropna(inplace = True)"
   ]
  },
  {
   "cell_type": "code",
   "execution_count": 8,
   "metadata": {},
   "outputs": [
    {
     "data": {
      "text/plain": [
       "(4909, 12)"
      ]
     },
     "execution_count": 8,
     "metadata": {},
     "output_type": "execute_result"
    }
   ],
   "source": [
    "df.shape"
   ]
  },
  {
   "cell_type": "code",
   "execution_count": 9,
   "metadata": {},
   "outputs": [
    {
     "data": {
      "text/plain": [
       "0    4700\n",
       "1     209\n",
       "Name: stroke, dtype: int64"
      ]
     },
     "execution_count": 9,
     "metadata": {},
     "output_type": "execute_result"
    }
   ],
   "source": [
    "df['stroke'].value_counts()"
   ]
  },
  {
   "cell_type": "code",
   "execution_count": 10,
   "metadata": {},
   "outputs": [
    {
     "data": {
      "text/html": [
       "<div>\n",
       "<style scoped>\n",
       "    .dataframe tbody tr th:only-of-type {\n",
       "        vertical-align: middle;\n",
       "    }\n",
       "\n",
       "    .dataframe tbody tr th {\n",
       "        vertical-align: top;\n",
       "    }\n",
       "\n",
       "    .dataframe thead th {\n",
       "        text-align: right;\n",
       "    }\n",
       "</style>\n",
       "<table border=\"1\" class=\"dataframe\">\n",
       "  <thead>\n",
       "    <tr style=\"text-align: right;\">\n",
       "      <th></th>\n",
       "      <th>id</th>\n",
       "      <th>gender</th>\n",
       "      <th>age</th>\n",
       "      <th>hypertension</th>\n",
       "      <th>heart_disease</th>\n",
       "      <th>ever_married</th>\n",
       "      <th>work_type</th>\n",
       "      <th>Residence_type</th>\n",
       "      <th>avg_glucose_level</th>\n",
       "      <th>bmi</th>\n",
       "      <th>smoking_status</th>\n",
       "      <th>stroke</th>\n",
       "    </tr>\n",
       "  </thead>\n",
       "  <tbody>\n",
       "    <tr>\n",
       "      <th>0</th>\n",
       "      <td>9046</td>\n",
       "      <td>Male</td>\n",
       "      <td>67.0</td>\n",
       "      <td>0</td>\n",
       "      <td>1</td>\n",
       "      <td>Yes</td>\n",
       "      <td>Private</td>\n",
       "      <td>Urban</td>\n",
       "      <td>228.69</td>\n",
       "      <td>36.6</td>\n",
       "      <td>formerly smoked</td>\n",
       "      <td>1</td>\n",
       "    </tr>\n",
       "    <tr>\n",
       "      <th>2</th>\n",
       "      <td>31112</td>\n",
       "      <td>Male</td>\n",
       "      <td>80.0</td>\n",
       "      <td>0</td>\n",
       "      <td>1</td>\n",
       "      <td>Yes</td>\n",
       "      <td>Private</td>\n",
       "      <td>Rural</td>\n",
       "      <td>105.92</td>\n",
       "      <td>32.5</td>\n",
       "      <td>never smoked</td>\n",
       "      <td>1</td>\n",
       "    </tr>\n",
       "    <tr>\n",
       "      <th>3</th>\n",
       "      <td>60182</td>\n",
       "      <td>Female</td>\n",
       "      <td>49.0</td>\n",
       "      <td>0</td>\n",
       "      <td>0</td>\n",
       "      <td>Yes</td>\n",
       "      <td>Private</td>\n",
       "      <td>Urban</td>\n",
       "      <td>171.23</td>\n",
       "      <td>34.4</td>\n",
       "      <td>smokes</td>\n",
       "      <td>1</td>\n",
       "    </tr>\n",
       "    <tr>\n",
       "      <th>4</th>\n",
       "      <td>1665</td>\n",
       "      <td>Female</td>\n",
       "      <td>79.0</td>\n",
       "      <td>1</td>\n",
       "      <td>0</td>\n",
       "      <td>Yes</td>\n",
       "      <td>Self-employed</td>\n",
       "      <td>Rural</td>\n",
       "      <td>174.12</td>\n",
       "      <td>24.0</td>\n",
       "      <td>never smoked</td>\n",
       "      <td>1</td>\n",
       "    </tr>\n",
       "    <tr>\n",
       "      <th>5</th>\n",
       "      <td>56669</td>\n",
       "      <td>Male</td>\n",
       "      <td>81.0</td>\n",
       "      <td>0</td>\n",
       "      <td>0</td>\n",
       "      <td>Yes</td>\n",
       "      <td>Private</td>\n",
       "      <td>Urban</td>\n",
       "      <td>186.21</td>\n",
       "      <td>29.0</td>\n",
       "      <td>formerly smoked</td>\n",
       "      <td>1</td>\n",
       "    </tr>\n",
       "  </tbody>\n",
       "</table>\n",
       "</div>"
      ],
      "text/plain": [
       "      id  gender   age  hypertension  heart_disease ever_married  \\\n",
       "0   9046    Male  67.0             0              1          Yes   \n",
       "2  31112    Male  80.0             0              1          Yes   \n",
       "3  60182  Female  49.0             0              0          Yes   \n",
       "4   1665  Female  79.0             1              0          Yes   \n",
       "5  56669    Male  81.0             0              0          Yes   \n",
       "\n",
       "       work_type Residence_type  avg_glucose_level   bmi   smoking_status  \\\n",
       "0        Private          Urban             228.69  36.6  formerly smoked   \n",
       "2        Private          Rural             105.92  32.5     never smoked   \n",
       "3        Private          Urban             171.23  34.4           smokes   \n",
       "4  Self-employed          Rural             174.12  24.0     never smoked   \n",
       "5        Private          Urban             186.21  29.0  formerly smoked   \n",
       "\n",
       "   stroke  \n",
       "0       1  \n",
       "2       1  \n",
       "3       1  \n",
       "4       1  \n",
       "5       1  "
      ]
     },
     "execution_count": 10,
     "metadata": {},
     "output_type": "execute_result"
    }
   ],
   "source": [
    "df.head(5)"
   ]
  },
  {
   "cell_type": "code",
   "execution_count": 11,
   "metadata": {},
   "outputs": [],
   "source": [
    "gender = pd.get_dummies(df['gender'])\n",
    "gender.drop('Other' , axis = 1 , inplace = True)\n",
    "#gender"
   ]
  },
  {
   "cell_type": "code",
   "execution_count": 12,
   "metadata": {},
   "outputs": [],
   "source": [
    "married = pd.get_dummies(df['ever_married'] , drop_first = True)\n",
    "#married"
   ]
  },
  {
   "cell_type": "code",
   "execution_count": 13,
   "metadata": {},
   "outputs": [],
   "source": [
    "resident = pd.get_dummies(df['Residence_type'],drop_first = True)\n",
    "#resident"
   ]
  },
  {
   "cell_type": "code",
   "execution_count": 14,
   "metadata": {},
   "outputs": [],
   "source": [
    "work = pd.get_dummies(df['work_type'])\n",
    "work.drop('children' , axis = 1 , inplace = True)\n",
    "#work"
   ]
  },
  {
   "cell_type": "code",
   "execution_count": 15,
   "metadata": {},
   "outputs": [],
   "source": [
    "smoking = pd.get_dummies(df['smoking_status'] , drop_first = True)\n",
    "#smoking"
   ]
  },
  {
   "cell_type": "code",
   "execution_count": 16,
   "metadata": {},
   "outputs": [],
   "source": [
    "final = pd.concat([df , gender , married , resident , work , smoking] , axis = 1)"
   ]
  },
  {
   "cell_type": "code",
   "execution_count": 17,
   "metadata": {},
   "outputs": [
    {
     "data": {
      "text/html": [
       "<div>\n",
       "<style scoped>\n",
       "    .dataframe tbody tr th:only-of-type {\n",
       "        vertical-align: middle;\n",
       "    }\n",
       "\n",
       "    .dataframe tbody tr th {\n",
       "        vertical-align: top;\n",
       "    }\n",
       "\n",
       "    .dataframe thead th {\n",
       "        text-align: right;\n",
       "    }\n",
       "</style>\n",
       "<table border=\"1\" class=\"dataframe\">\n",
       "  <thead>\n",
       "    <tr style=\"text-align: right;\">\n",
       "      <th></th>\n",
       "      <th>id</th>\n",
       "      <th>gender</th>\n",
       "      <th>age</th>\n",
       "      <th>hypertension</th>\n",
       "      <th>heart_disease</th>\n",
       "      <th>ever_married</th>\n",
       "      <th>work_type</th>\n",
       "      <th>Residence_type</th>\n",
       "      <th>avg_glucose_level</th>\n",
       "      <th>bmi</th>\n",
       "      <th>...</th>\n",
       "      <th>Male</th>\n",
       "      <th>Yes</th>\n",
       "      <th>Urban</th>\n",
       "      <th>Govt_job</th>\n",
       "      <th>Never_worked</th>\n",
       "      <th>Private</th>\n",
       "      <th>Self-employed</th>\n",
       "      <th>formerly smoked</th>\n",
       "      <th>never smoked</th>\n",
       "      <th>smokes</th>\n",
       "    </tr>\n",
       "  </thead>\n",
       "  <tbody>\n",
       "    <tr>\n",
       "      <th>0</th>\n",
       "      <td>9046</td>\n",
       "      <td>Male</td>\n",
       "      <td>67.0</td>\n",
       "      <td>0</td>\n",
       "      <td>1</td>\n",
       "      <td>Yes</td>\n",
       "      <td>Private</td>\n",
       "      <td>Urban</td>\n",
       "      <td>228.69</td>\n",
       "      <td>36.6</td>\n",
       "      <td>...</td>\n",
       "      <td>1</td>\n",
       "      <td>1</td>\n",
       "      <td>1</td>\n",
       "      <td>0</td>\n",
       "      <td>0</td>\n",
       "      <td>1</td>\n",
       "      <td>0</td>\n",
       "      <td>1</td>\n",
       "      <td>0</td>\n",
       "      <td>0</td>\n",
       "    </tr>\n",
       "    <tr>\n",
       "      <th>2</th>\n",
       "      <td>31112</td>\n",
       "      <td>Male</td>\n",
       "      <td>80.0</td>\n",
       "      <td>0</td>\n",
       "      <td>1</td>\n",
       "      <td>Yes</td>\n",
       "      <td>Private</td>\n",
       "      <td>Rural</td>\n",
       "      <td>105.92</td>\n",
       "      <td>32.5</td>\n",
       "      <td>...</td>\n",
       "      <td>1</td>\n",
       "      <td>1</td>\n",
       "      <td>0</td>\n",
       "      <td>0</td>\n",
       "      <td>0</td>\n",
       "      <td>1</td>\n",
       "      <td>0</td>\n",
       "      <td>0</td>\n",
       "      <td>1</td>\n",
       "      <td>0</td>\n",
       "    </tr>\n",
       "    <tr>\n",
       "      <th>3</th>\n",
       "      <td>60182</td>\n",
       "      <td>Female</td>\n",
       "      <td>49.0</td>\n",
       "      <td>0</td>\n",
       "      <td>0</td>\n",
       "      <td>Yes</td>\n",
       "      <td>Private</td>\n",
       "      <td>Urban</td>\n",
       "      <td>171.23</td>\n",
       "      <td>34.4</td>\n",
       "      <td>...</td>\n",
       "      <td>0</td>\n",
       "      <td>1</td>\n",
       "      <td>1</td>\n",
       "      <td>0</td>\n",
       "      <td>0</td>\n",
       "      <td>1</td>\n",
       "      <td>0</td>\n",
       "      <td>0</td>\n",
       "      <td>0</td>\n",
       "      <td>1</td>\n",
       "    </tr>\n",
       "    <tr>\n",
       "      <th>4</th>\n",
       "      <td>1665</td>\n",
       "      <td>Female</td>\n",
       "      <td>79.0</td>\n",
       "      <td>1</td>\n",
       "      <td>0</td>\n",
       "      <td>Yes</td>\n",
       "      <td>Self-employed</td>\n",
       "      <td>Rural</td>\n",
       "      <td>174.12</td>\n",
       "      <td>24.0</td>\n",
       "      <td>...</td>\n",
       "      <td>0</td>\n",
       "      <td>1</td>\n",
       "      <td>0</td>\n",
       "      <td>0</td>\n",
       "      <td>0</td>\n",
       "      <td>0</td>\n",
       "      <td>1</td>\n",
       "      <td>0</td>\n",
       "      <td>1</td>\n",
       "      <td>0</td>\n",
       "    </tr>\n",
       "    <tr>\n",
       "      <th>5</th>\n",
       "      <td>56669</td>\n",
       "      <td>Male</td>\n",
       "      <td>81.0</td>\n",
       "      <td>0</td>\n",
       "      <td>0</td>\n",
       "      <td>Yes</td>\n",
       "      <td>Private</td>\n",
       "      <td>Urban</td>\n",
       "      <td>186.21</td>\n",
       "      <td>29.0</td>\n",
       "      <td>...</td>\n",
       "      <td>1</td>\n",
       "      <td>1</td>\n",
       "      <td>1</td>\n",
       "      <td>0</td>\n",
       "      <td>0</td>\n",
       "      <td>1</td>\n",
       "      <td>0</td>\n",
       "      <td>1</td>\n",
       "      <td>0</td>\n",
       "      <td>0</td>\n",
       "    </tr>\n",
       "  </tbody>\n",
       "</table>\n",
       "<p>5 rows × 23 columns</p>\n",
       "</div>"
      ],
      "text/plain": [
       "      id  gender   age  hypertension  heart_disease ever_married  \\\n",
       "0   9046    Male  67.0             0              1          Yes   \n",
       "2  31112    Male  80.0             0              1          Yes   \n",
       "3  60182  Female  49.0             0              0          Yes   \n",
       "4   1665  Female  79.0             1              0          Yes   \n",
       "5  56669    Male  81.0             0              0          Yes   \n",
       "\n",
       "       work_type Residence_type  avg_glucose_level   bmi  ... Male  Yes  \\\n",
       "0        Private          Urban             228.69  36.6  ...    1    1   \n",
       "2        Private          Rural             105.92  32.5  ...    1    1   \n",
       "3        Private          Urban             171.23  34.4  ...    0    1   \n",
       "4  Self-employed          Rural             174.12  24.0  ...    0    1   \n",
       "5        Private          Urban             186.21  29.0  ...    1    1   \n",
       "\n",
       "   Urban  Govt_job  Never_worked  Private  Self-employed  formerly smoked  \\\n",
       "0      1         0             0        1              0                1   \n",
       "2      0         0             0        1              0                0   \n",
       "3      1         0             0        1              0                0   \n",
       "4      0         0             0        0              1                0   \n",
       "5      1         0             0        1              0                1   \n",
       "\n",
       "   never smoked  smokes  \n",
       "0             0       0  \n",
       "2             1       0  \n",
       "3             0       1  \n",
       "4             1       0  \n",
       "5             0       0  \n",
       "\n",
       "[5 rows x 23 columns]"
      ]
     },
     "execution_count": 17,
     "metadata": {},
     "output_type": "execute_result"
    }
   ],
   "source": [
    "final.head(5)"
   ]
  },
  {
   "cell_type": "code",
   "execution_count": 18,
   "metadata": {},
   "outputs": [],
   "source": [
    "final.drop(['gender' , 'ever_married' , 'work_type' , 'Residence_type' , 'smoking_status'] , axis = 1 , inplace = True)"
   ]
  },
  {
   "cell_type": "code",
   "execution_count": 19,
   "metadata": {},
   "outputs": [
    {
     "data": {
      "text/plain": [
       "Index(['id', 'age', 'hypertension', 'heart_disease', 'avg_glucose_level',\n",
       "       'bmi', 'stroke', 'Female', 'Male', 'married', 'Urban', 'Govt_job',\n",
       "       'Never_worked', 'Private', 'Self-employed', 'formerly smoked',\n",
       "       'never smoked', 'smokes'],\n",
       "      dtype='object')"
      ]
     },
     "execution_count": 19,
     "metadata": {},
     "output_type": "execute_result"
    }
   ],
   "source": [
    "final.rename(columns= {'Yes':'married'} , inplace = True)\n",
    "final.columns"
   ]
  },
  {
   "cell_type": "code",
   "execution_count": 20,
   "metadata": {},
   "outputs": [],
   "source": [
    "final.drop('id' , axis = 1 , inplace=True)"
   ]
  },
  {
   "cell_type": "markdown",
   "metadata": {},
   "source": [
    "# start of KNN algorithm"
   ]
  },
  {
   "cell_type": "code",
   "execution_count": 21,
   "metadata": {},
   "outputs": [],
   "source": [
    "import math\n",
    "def distance(instance1 , instance2):\n",
    "    length = len(instance1) - 1\n",
    "    distance = 0\n",
    "    for x in range(length):\n",
    "        distance += abs(instance1[x]**2 - instance2[x]**2)\n",
    "    return math.sqrt(distance)"
   ]
  },
  {
   "cell_type": "code",
   "execution_count": 22,
   "metadata": {},
   "outputs": [],
   "source": [
    "def getneighbour(tr_set , test_ins , k):\n",
    "    temp = tr_set.copy()\n",
    "    length = len(temp)\n",
    "    for i in range(length):\n",
    "        dist = distance(temp[i] , test_ins)\n",
    "        temp[i].append(dist)\n",
    "    temp.sort(key=lambda x:x[-1])\n",
    "    neighbours = []\n",
    "    for j in range(k):\n",
    "        neighbours.append((temp[j][0],temp[j][-2],temp[j][-1]))\n",
    "    return neighbours        "
   ]
  },
  {
   "cell_type": "code",
   "execution_count": 23,
   "metadata": {},
   "outputs": [],
   "source": [
    "def get_response(neighbours):\n",
    "    vote = {}\n",
    "    for ele in neighbours:\n",
    "        if ele[-2] in vote:\n",
    "            vote[ele[-2]] += 1\n",
    "        else:\n",
    "            vote[ele[-2]] = 1\n",
    "    res = sorted(vote.items() , key=lambda x:x[0] , reverse = True)\n",
    "    return res\n",
    "        "
   ]
  },
  {
   "cell_type": "code",
   "execution_count": 24,
   "metadata": {},
   "outputs": [],
   "source": [
    "def percent(res):\n",
    "    total = 0\n",
    "    for ele in res:\n",
    "        total += ele[1]\n",
    "    if int(res[0][0]) == 1:\n",
    "        fav = res[0][1]\n",
    "        per = (fav/total)*100\n",
    "        return f'Chances of occurance of a stroke is {per} %'\n",
    "    else:\n",
    "        fav = res[0][1]\n",
    "        per = (fav/total)*100\n",
    "        return f'Chances of occurance of a stroke is {100 - per} %'"
   ]
  },
  {
   "cell_type": "code",
   "execution_count": 25,
   "metadata": {},
   "outputs": [],
   "source": [
    "from sklearn.model_selection import train_test_split"
   ]
  },
  {
   "cell_type": "code",
   "execution_count": 26,
   "metadata": {},
   "outputs": [],
   "source": [
    "final['stroke_occurs'] = final['stroke']\n",
    "X = final.drop('stroke' , axis = 1)\n",
    "Y = final['stroke']"
   ]
  },
  {
   "cell_type": "code",
   "execution_count": 27,
   "metadata": {},
   "outputs": [],
   "source": [
    "train_x , train_y , test_x , test_y = train_test_split(X , Y , test_size=0.01 , random_state = 1)"
   ]
  },
  {
   "cell_type": "code",
   "execution_count": 28,
   "metadata": {},
   "outputs": [
    {
     "data": {
      "text/html": [
       "<div>\n",
       "<style scoped>\n",
       "    .dataframe tbody tr th:only-of-type {\n",
       "        vertical-align: middle;\n",
       "    }\n",
       "\n",
       "    .dataframe tbody tr th {\n",
       "        vertical-align: top;\n",
       "    }\n",
       "\n",
       "    .dataframe thead th {\n",
       "        text-align: right;\n",
       "    }\n",
       "</style>\n",
       "<table border=\"1\" class=\"dataframe\">\n",
       "  <thead>\n",
       "    <tr style=\"text-align: right;\">\n",
       "      <th></th>\n",
       "      <th>age</th>\n",
       "      <th>hypertension</th>\n",
       "      <th>heart_disease</th>\n",
       "      <th>avg_glucose_level</th>\n",
       "      <th>bmi</th>\n",
       "      <th>Female</th>\n",
       "      <th>Male</th>\n",
       "      <th>married</th>\n",
       "      <th>Urban</th>\n",
       "      <th>Govt_job</th>\n",
       "      <th>Never_worked</th>\n",
       "      <th>Private</th>\n",
       "      <th>Self-employed</th>\n",
       "      <th>formerly smoked</th>\n",
       "      <th>never smoked</th>\n",
       "      <th>smokes</th>\n",
       "      <th>stroke_occurs</th>\n",
       "    </tr>\n",
       "  </thead>\n",
       "  <tbody>\n",
       "    <tr>\n",
       "      <th>2345</th>\n",
       "      <td>46.0</td>\n",
       "      <td>0</td>\n",
       "      <td>0</td>\n",
       "      <td>85.81</td>\n",
       "      <td>20.2</td>\n",
       "      <td>1</td>\n",
       "      <td>0</td>\n",
       "      <td>1</td>\n",
       "      <td>0</td>\n",
       "      <td>0</td>\n",
       "      <td>0</td>\n",
       "      <td>1</td>\n",
       "      <td>0</td>\n",
       "      <td>1</td>\n",
       "      <td>0</td>\n",
       "      <td>0</td>\n",
       "      <td>0</td>\n",
       "    </tr>\n",
       "    <tr>\n",
       "      <th>4732</th>\n",
       "      <td>45.0</td>\n",
       "      <td>0</td>\n",
       "      <td>0</td>\n",
       "      <td>108.03</td>\n",
       "      <td>37.3</td>\n",
       "      <td>1</td>\n",
       "      <td>0</td>\n",
       "      <td>1</td>\n",
       "      <td>1</td>\n",
       "      <td>0</td>\n",
       "      <td>0</td>\n",
       "      <td>1</td>\n",
       "      <td>0</td>\n",
       "      <td>0</td>\n",
       "      <td>1</td>\n",
       "      <td>0</td>\n",
       "      <td>0</td>\n",
       "    </tr>\n",
       "    <tr>\n",
       "      <th>1104</th>\n",
       "      <td>62.0</td>\n",
       "      <td>0</td>\n",
       "      <td>0</td>\n",
       "      <td>204.57</td>\n",
       "      <td>34.4</td>\n",
       "      <td>0</td>\n",
       "      <td>1</td>\n",
       "      <td>1</td>\n",
       "      <td>0</td>\n",
       "      <td>1</td>\n",
       "      <td>0</td>\n",
       "      <td>0</td>\n",
       "      <td>0</td>\n",
       "      <td>0</td>\n",
       "      <td>0</td>\n",
       "      <td>0</td>\n",
       "      <td>0</td>\n",
       "    </tr>\n",
       "    <tr>\n",
       "      <th>963</th>\n",
       "      <td>30.0</td>\n",
       "      <td>0</td>\n",
       "      <td>0</td>\n",
       "      <td>73.69</td>\n",
       "      <td>17.3</td>\n",
       "      <td>1</td>\n",
       "      <td>0</td>\n",
       "      <td>0</td>\n",
       "      <td>0</td>\n",
       "      <td>0</td>\n",
       "      <td>0</td>\n",
       "      <td>1</td>\n",
       "      <td>0</td>\n",
       "      <td>0</td>\n",
       "      <td>1</td>\n",
       "      <td>0</td>\n",
       "      <td>0</td>\n",
       "    </tr>\n",
       "    <tr>\n",
       "      <th>3890</th>\n",
       "      <td>45.0</td>\n",
       "      <td>1</td>\n",
       "      <td>0</td>\n",
       "      <td>74.28</td>\n",
       "      <td>37.2</td>\n",
       "      <td>0</td>\n",
       "      <td>1</td>\n",
       "      <td>1</td>\n",
       "      <td>0</td>\n",
       "      <td>0</td>\n",
       "      <td>0</td>\n",
       "      <td>0</td>\n",
       "      <td>1</td>\n",
       "      <td>1</td>\n",
       "      <td>0</td>\n",
       "      <td>0</td>\n",
       "      <td>0</td>\n",
       "    </tr>\n",
       "    <tr>\n",
       "      <th>...</th>\n",
       "      <td>...</td>\n",
       "      <td>...</td>\n",
       "      <td>...</td>\n",
       "      <td>...</td>\n",
       "      <td>...</td>\n",
       "      <td>...</td>\n",
       "      <td>...</td>\n",
       "      <td>...</td>\n",
       "      <td>...</td>\n",
       "      <td>...</td>\n",
       "      <td>...</td>\n",
       "      <td>...</td>\n",
       "      <td>...</td>\n",
       "      <td>...</td>\n",
       "      <td>...</td>\n",
       "      <td>...</td>\n",
       "      <td>...</td>\n",
       "    </tr>\n",
       "    <tr>\n",
       "      <th>3036</th>\n",
       "      <td>40.0</td>\n",
       "      <td>0</td>\n",
       "      <td>0</td>\n",
       "      <td>104.64</td>\n",
       "      <td>24.9</td>\n",
       "      <td>0</td>\n",
       "      <td>1</td>\n",
       "      <td>1</td>\n",
       "      <td>1</td>\n",
       "      <td>0</td>\n",
       "      <td>0</td>\n",
       "      <td>1</td>\n",
       "      <td>0</td>\n",
       "      <td>0</td>\n",
       "      <td>0</td>\n",
       "      <td>0</td>\n",
       "      <td>0</td>\n",
       "    </tr>\n",
       "    <tr>\n",
       "      <th>2899</th>\n",
       "      <td>55.0</td>\n",
       "      <td>0</td>\n",
       "      <td>0</td>\n",
       "      <td>68.79</td>\n",
       "      <td>27.0</td>\n",
       "      <td>0</td>\n",
       "      <td>1</td>\n",
       "      <td>1</td>\n",
       "      <td>1</td>\n",
       "      <td>0</td>\n",
       "      <td>0</td>\n",
       "      <td>1</td>\n",
       "      <td>0</td>\n",
       "      <td>0</td>\n",
       "      <td>1</td>\n",
       "      <td>0</td>\n",
       "      <td>0</td>\n",
       "    </tr>\n",
       "    <tr>\n",
       "      <th>962</th>\n",
       "      <td>33.0</td>\n",
       "      <td>0</td>\n",
       "      <td>0</td>\n",
       "      <td>77.42</td>\n",
       "      <td>26.1</td>\n",
       "      <td>0</td>\n",
       "      <td>1</td>\n",
       "      <td>0</td>\n",
       "      <td>0</td>\n",
       "      <td>0</td>\n",
       "      <td>0</td>\n",
       "      <td>1</td>\n",
       "      <td>0</td>\n",
       "      <td>0</td>\n",
       "      <td>0</td>\n",
       "      <td>0</td>\n",
       "      <td>0</td>\n",
       "    </tr>\n",
       "    <tr>\n",
       "      <th>4157</th>\n",
       "      <td>14.0</td>\n",
       "      <td>0</td>\n",
       "      <td>0</td>\n",
       "      <td>111.76</td>\n",
       "      <td>24.8</td>\n",
       "      <td>1</td>\n",
       "      <td>0</td>\n",
       "      <td>0</td>\n",
       "      <td>0</td>\n",
       "      <td>0</td>\n",
       "      <td>0</td>\n",
       "      <td>0</td>\n",
       "      <td>0</td>\n",
       "      <td>0</td>\n",
       "      <td>0</td>\n",
       "      <td>0</td>\n",
       "      <td>0</td>\n",
       "    </tr>\n",
       "    <tr>\n",
       "      <th>275</th>\n",
       "      <td>67.0</td>\n",
       "      <td>0</td>\n",
       "      <td>0</td>\n",
       "      <td>94.61</td>\n",
       "      <td>28.4</td>\n",
       "      <td>1</td>\n",
       "      <td>0</td>\n",
       "      <td>1</td>\n",
       "      <td>0</td>\n",
       "      <td>1</td>\n",
       "      <td>0</td>\n",
       "      <td>0</td>\n",
       "      <td>0</td>\n",
       "      <td>0</td>\n",
       "      <td>0</td>\n",
       "      <td>1</td>\n",
       "      <td>0</td>\n",
       "    </tr>\n",
       "  </tbody>\n",
       "</table>\n",
       "<p>4859 rows × 17 columns</p>\n",
       "</div>"
      ],
      "text/plain": [
       "       age  hypertension  heart_disease  avg_glucose_level   bmi  Female  \\\n",
       "2345  46.0             0              0              85.81  20.2       1   \n",
       "4732  45.0             0              0             108.03  37.3       1   \n",
       "1104  62.0             0              0             204.57  34.4       0   \n",
       "963   30.0             0              0              73.69  17.3       1   \n",
       "3890  45.0             1              0              74.28  37.2       0   \n",
       "...    ...           ...            ...                ...   ...     ...   \n",
       "3036  40.0             0              0             104.64  24.9       0   \n",
       "2899  55.0             0              0              68.79  27.0       0   \n",
       "962   33.0             0              0              77.42  26.1       0   \n",
       "4157  14.0             0              0             111.76  24.8       1   \n",
       "275   67.0             0              0              94.61  28.4       1   \n",
       "\n",
       "      Male  married  Urban  Govt_job  Never_worked  Private  Self-employed  \\\n",
       "2345     0        1      0         0             0        1              0   \n",
       "4732     0        1      1         0             0        1              0   \n",
       "1104     1        1      0         1             0        0              0   \n",
       "963      0        0      0         0             0        1              0   \n",
       "3890     1        1      0         0             0        0              1   \n",
       "...    ...      ...    ...       ...           ...      ...            ...   \n",
       "3036     1        1      1         0             0        1              0   \n",
       "2899     1        1      1         0             0        1              0   \n",
       "962      1        0      0         0             0        1              0   \n",
       "4157     0        0      0         0             0        0              0   \n",
       "275      0        1      0         1             0        0              0   \n",
       "\n",
       "      formerly smoked  never smoked  smokes  stroke_occurs  \n",
       "2345                1             0       0              0  \n",
       "4732                0             1       0              0  \n",
       "1104                0             0       0              0  \n",
       "963                 0             1       0              0  \n",
       "3890                1             0       0              0  \n",
       "...               ...           ...     ...            ...  \n",
       "3036                0             0       0              0  \n",
       "2899                0             1       0              0  \n",
       "962                 0             0       0              0  \n",
       "4157                0             0       0              0  \n",
       "275                 0             0       1              0  \n",
       "\n",
       "[4859 rows x 17 columns]"
      ]
     },
     "execution_count": 28,
     "metadata": {},
     "output_type": "execute_result"
    }
   ],
   "source": [
    "train_x"
   ]
  },
  {
   "cell_type": "code",
   "execution_count": 29,
   "metadata": {},
   "outputs": [
    {
     "data": {
      "text/html": [
       "<div>\n",
       "<style scoped>\n",
       "    .dataframe tbody tr th:only-of-type {\n",
       "        vertical-align: middle;\n",
       "    }\n",
       "\n",
       "    .dataframe tbody tr th {\n",
       "        vertical-align: top;\n",
       "    }\n",
       "\n",
       "    .dataframe thead th {\n",
       "        text-align: right;\n",
       "    }\n",
       "</style>\n",
       "<table border=\"1\" class=\"dataframe\">\n",
       "  <thead>\n",
       "    <tr style=\"text-align: right;\">\n",
       "      <th></th>\n",
       "      <th>age</th>\n",
       "      <th>hypertension</th>\n",
       "      <th>heart_disease</th>\n",
       "      <th>avg_glucose_level</th>\n",
       "      <th>bmi</th>\n",
       "      <th>Female</th>\n",
       "      <th>Male</th>\n",
       "      <th>married</th>\n",
       "      <th>Urban</th>\n",
       "      <th>Govt_job</th>\n",
       "      <th>Never_worked</th>\n",
       "      <th>Private</th>\n",
       "      <th>Self-employed</th>\n",
       "      <th>formerly smoked</th>\n",
       "      <th>never smoked</th>\n",
       "      <th>smokes</th>\n",
       "      <th>stroke_occurs</th>\n",
       "    </tr>\n",
       "  </thead>\n",
       "  <tbody>\n",
       "  </tbody>\n",
       "</table>\n",
       "</div>"
      ],
      "text/plain": [
       "Empty DataFrame\n",
       "Columns: [age, hypertension, heart_disease, avg_glucose_level, bmi, Female, Male, married, Urban, Govt_job, Never_worked, Private, Self-employed, formerly smoked, never smoked, smokes, stroke_occurs]\n",
       "Index: []"
      ]
     },
     "execution_count": 29,
     "metadata": {},
     "output_type": "execute_result"
    }
   ],
   "source": [
    "#train_y.head(10)\n",
    "#train_y['stroke_occurs'].value_counts()\n",
    "train = train_y[train_y['stroke_occurs']==1]\n",
    "train"
   ]
  },
  {
   "cell_type": "markdown",
   "metadata": {},
   "source": [
    "# Test Instance"
   ]
  },
  {
   "cell_type": "markdown",
   "metadata": {},
   "source": [
    " <pre style=\"color:blue\">parameters = ['age', 'hypertension', 'heart_disease', 'avg_glucose_level',\n",
    "       'bmi', 'Female', 'Male', 'married', 'Urban', 'Govt_job',\n",
    "       'Never_worked', 'Private', 'Self-employed', 'formerly smoked',\n",
    "       'never smoked', 'smokes', 'stroke']</pre>"
   ]
  },
  {
   "cell_type": "markdown",
   "metadata": {},
   "source": [
    " <pre style=\"color:red\">Last element of list<sub>test instance</sub> is as follows:\n",
    "                                        case '1': positive chances of occurance\n",
    "                                        case '0': negative chances of occurance</pre>"
   ]
  },
  {
   "cell_type": "code",
   "execution_count": 58,
   "metadata": {},
   "outputs": [
    {
     "name": "stdout",
     "output_type": "stream",
     "text": [
      "enter your age: 52\n",
      "Hypertension 0/1: 1\n",
      "Heart Disease 0/1: 0\n",
      "enter your avg glucose level: 95\n",
      "enter your bmi: 23\n",
      "Female 0/1: 0\n",
      "Male 0/1: 1\n",
      "married 0/1: 1\n",
      "urban 0/1: 1\n",
      "Govt job 0/1: 0\n",
      "Never worked 0/1: 0\n",
      "private 0/1: 0\n",
      "self employed 0/1: 1\n",
      "Formarly smoked 0/1: 1\n",
      "Never smoked 0/1: 0\n",
      "smoked 0/1: 0\n"
     ]
    }
   ],
   "source": [
    "#test_ins = train_y.loc[71]\n",
    "#print(list(test_ins))    \n",
    "age = int(input(\"enter your age: \"))\n",
    "hyp = int(input(\"Hypertension 0/1: \"))\n",
    "h_dis = int(input(\"Heart Disease 0/1: \"))\n",
    "avg_glu = float(input(\"enter your avg glucose level: \"))\n",
    "bmi = float(input(\"enter your bmi: \"))\n",
    "fem = int(input(\"Female 0/1: \"))\n",
    "male = int(input(\"Male 0/1: \"))\n",
    "marr = int(input(\"married 0/1: \"))\n",
    "urb = int(input(\"urban 0/1: \"))\n",
    "govt = int(input(\"Govt job 0/1: \"))\n",
    "nev_wrk = int(input(\"Never worked 0/1: \"))\n",
    "pvt = int(input(\"private 0/1: \"))\n",
    "s_emp = int(input(\"self employed 0/1: \"))\n",
    "for_sm = int(input(\"Formarly smoked 0/1: \"))\n",
    "nev_sm = int(input(\"Never smoked 0/1: \"))\n",
    "sm = int(input(\"smoked 0/1: \"))\n",
    "\n",
    "test_ins = [age, hyp, h_dis, avg_glu, bmi, fem, male, marr, urb, govt, nev_wrk, pvt, s_emp, for_sm, nev_sm, sm, 0.0]"
   ]
  },
  {
   "cell_type": "markdown",
   "metadata": {},
   "source": [
    "# Training set"
   ]
  },
  {
   "cell_type": "code",
   "execution_count": 59,
   "metadata": {},
   "outputs": [
    {
     "name": "stdout",
     "output_type": "stream",
     "text": [
      "[46.0, 0.0, 0.0, 85.81, 20.2, 1.0, 0.0, 1.0, 0.0, 0.0, 0.0, 1.0, 0.0, 1.0, 0.0, 0.0, 0.0]\n"
     ]
    }
   ],
   "source": [
    "train_set = []\n",
    "for i in range(len(train_x)):\n",
    "    train_set.append(list(train_x.iloc[i]))\n",
    "print(train_set[0])"
   ]
  },
  {
   "cell_type": "markdown",
   "metadata": {},
   "source": [
    "### process"
   ]
  },
  {
   "cell_type": "code",
   "execution_count": 60,
   "metadata": {},
   "outputs": [
    {
     "data": {
      "text/plain": [
       "[(52.0, 0.0, 6.873107012116028),\n",
       " (51.0, 0.0, 14.3744947737303),\n",
       " (50.0, 0.0, 17.86204075686762),\n",
       " (51.0, 0.0, 18.097789920318995),\n",
       " (53.0, 0.0, 18.641912455539522),\n",
       " (50.0, 0.0, 19.192188515122517),\n",
       " (53.0, 0.0, 20.30117976867354),\n",
       " (51.0, 0.0, 20.5479658360627),\n",
       " (50.0, 0.0, 21.10998815726811),\n",
       " (52.0, 1.0, 21.92231967653058),\n",
       " (49.0, 0.0, 22.48831029668528),\n",
       " (52.0, 0.0, 22.51538140916111),\n",
       " (53.0, 0.0, 22.67047419001201),\n",
       " (52.0, 0.0, 22.68000220458539),\n",
       " (51.0, 0.0, 22.85368898011872),\n",
       " (53.0, 0.0, 23.016550566929002),\n",
       " (51.0, 0.0, 23.205764370086985),\n",
       " (55.0, 0.0, 24.023788210854654),\n",
       " (51.0, 0.0, 24.663991972103787),\n",
       " (55.0, 0.0, 24.976939364141476),\n",
       " (52.0, 0.0, 25.18267062882728),\n",
       " (52.0, 0.0, 25.606688579353627),\n",
       " (54.0, 0.0, 25.98591733997474),\n",
       " (51.0, 0.0, 26.469106520621366),\n",
       " (56.0, 0.0, 26.902302875404576),\n",
       " (54.0, 0.0, 27.325407590738703),\n",
       " (46.0, 0.0, 27.46221221970294),\n",
       " (57.0, 0.0, 27.85516110167022),\n",
       " (50.0, 0.0, 28.196615045072335),\n",
       " (47.0, 0.0, 28.289425586250452),\n",
       " (50.0, 0.0, 28.299538865500953),\n",
       " (55.0, 1.0, 28.863118334649823),\n",
       " (56.0, 0.0, 28.985787896829724),\n",
       " (50.0, 0.0, 28.99547378471334),\n",
       " (50.0, 0.0, 29.291937457259454),\n",
       " (53.0, 0.0, 29.424358956483683),\n",
       " (54.0, 0.0, 29.652839661658046),\n",
       " (52.0, 0.0, 29.735339244743777),\n",
       " (54.0, 0.0, 29.931481754166487),\n",
       " (55.0, 0.0, 30.056964251234685),\n",
       " (56.0, 0.0, 30.05702746447163),\n",
       " (57.0, 0.0, 30.208237287203602),\n",
       " (54.0, 1.0, 30.232282414663956),\n",
       " (55.0, 0.0, 30.273262130137226),\n",
       " (50.0, 0.0, 30.293396970297007),\n",
       " (58.0, 0.0, 30.35809776649385),\n",
       " (53.0, 0.0, 30.45807610470496),\n",
       " (54.0, 0.0, 30.962039661495183),\n",
       " (53.0, 0.0, 30.970429444875307),\n",
       " (44.0, 0.0, 31.040979365992925),\n",
       " (54.0, 0.0, 31.55009350223864),\n",
       " (54.0, 0.0, 31.922932196150157),\n",
       " (47.0, 0.0, 31.989398243793236),\n",
       " (59.0, 0.0, 32.155131783278385),\n",
       " (56.0, 0.0, 32.17324820405922),\n",
       " (54.0, 0.0, 32.41426229300922),\n",
       " (57.0, 0.0, 32.53816067327715),\n",
       " (48.0, 0.0, 32.60932995325112),\n",
       " (56.0, 0.0, 32.773237557495015),\n",
       " (51.0, 0.0, 32.93666042573231),\n",
       " (57.0, 0.0, 32.98465552344001),\n",
       " (43.0, 0.0, 33.06546385581187),\n",
       " (44.0, 0.0, 33.265235607162026),\n",
       " (50.0, 0.0, 33.292545712216125),\n",
       " (58.0, 0.0, 33.42633692165506),\n",
       " (52.0, 0.0, 33.42950194065116),\n",
       " (52.0, 0.0, 33.460723243827225),\n",
       " (53.0, 0.0, 33.55510542376526),\n",
       " (48.0, 0.0, 33.597148688541985),\n",
       " (45.0, 0.0, 33.694100373804304),\n",
       " (56.0, 0.0, 33.71233602110659),\n",
       " (57.0, 0.0, 33.73854768658544),\n",
       " (49.0, 0.0, 33.741718984070744),\n",
       " (45.0, 0.0, 33.82949009370375),\n",
       " (59.0, 0.0, 33.92334889128726),\n",
       " (54.0, 0.0, 34.23067191861707),\n",
       " (56.0, 0.0, 34.2494613096323),\n",
       " (57.0, 0.0, 34.38259879648427),\n",
       " (57.0, 0.0, 34.64516705111986),\n",
       " (47.0, 0.0, 34.716802848188664),\n",
       " (59.0, 0.0, 34.89000573230103),\n",
       " (54.0, 0.0, 34.98745632365978),\n",
       " (52.0, 0.0, 35.069672082869545),\n",
       " (47.0, 0.0, 35.09070389718623),\n",
       " (48.0, 0.0, 35.19168793905741),\n",
       " (57.0, 0.0, 35.24483508260463),\n",
       " (51.0, 0.0, 35.622157430453306),\n",
       " (51.0, 0.0, 35.84839745372171),\n",
       " (55.0, 0.0, 35.85127054931247),\n",
       " (54.0, 0.0, 36.00504964584828),\n",
       " (54.0, 0.0, 36.14318884658627),\n",
       " (45.0, 1.0, 36.18841803671447),\n",
       " (44.0, 0.0, 36.312141220258525),\n",
       " (48.0, 0.0, 36.38679568195035),\n",
       " (45.0, 0.0, 36.406764481343316),\n",
       " (49.0, 0.0, 36.4298298101981),\n",
       " (40.0, 0.0, 36.51847614564442),\n",
       " (61.0, 0.0, 36.62211899931514),\n",
       " (55.0, 0.0, 36.81194914698216),\n",
       " (51.0, 0.0, 36.84144948288545)]"
      ]
     },
     "execution_count": 60,
     "metadata": {},
     "output_type": "execute_result"
    }
   ],
   "source": [
    "near_neigh = 100\n",
    "neighbours = getneighbour(train_set , list(test_ins) , k = near_neigh)\n",
    "neighbours"
   ]
  },
  {
   "cell_type": "code",
   "execution_count": 61,
   "metadata": {},
   "outputs": [],
   "source": [
    "resp = get_response(neighbours)"
   ]
  },
  {
   "cell_type": "code",
   "execution_count": 62,
   "metadata": {},
   "outputs": [
    {
     "name": "stdout",
     "output_type": "stream",
     "text": [
      "[(1.0, 4), (0.0, 96)]\n"
     ]
    }
   ],
   "source": [
    "print(resp)"
   ]
  },
  {
   "cell_type": "markdown",
   "metadata": {},
   "source": [
    "## patients Data"
   ]
  },
  {
   "cell_type": "code",
   "execution_count": 63,
   "metadata": {},
   "outputs": [
    {
     "name": "stdout",
     "output_type": "stream",
     "text": [
      "age (float)         52\n",
      "hypertension (binary)          1\n",
      "heart_disease (binary)          0\n",
      "avg_glucose_level (float)       95.0\n",
      "bmi (float)       23.0\n",
      "Female (binary)          0\n",
      "Male (binary)          1\n",
      "married (binary)          1\n",
      "Urban (binary)          1\n",
      "Govt_job (binary)          0\n",
      "Never_worked (binary)          0\n",
      "Private (binary)          0\n",
      "Self-employed (binary)          1\n",
      "formerly smoked (binary)          1\n",
      "never smoked (binary)          0\n",
      "smokes (binary)          0\n",
      "Original_stroke_occurs (binary)        0.0\n"
     ]
    }
   ],
   "source": [
    "features = ['age (float)', 'hypertension (binary)', 'heart_disease (binary)', 'avg_glucose_level (float)',\n",
    "       'bmi (float)', 'Female (binary)', 'Male (binary)', 'married (binary)', 'Urban (binary)', 'Govt_job (binary)',\n",
    "       'Never_worked (binary)', 'Private (binary)', 'Self-employed (binary)', 'formerly smoked (binary)',\n",
    "       'never smoked (binary)', 'smokes (binary)', 'Original_stroke_occurs (binary)']\n",
    "for fea , val in zip(features , test_ins):\n",
    "    print(fea , str(val).rjust(10))"
   ]
  },
  {
   "cell_type": "markdown",
   "metadata": {},
   "source": [
    "## predicted result"
   ]
  },
  {
   "cell_type": "code",
   "execution_count": 64,
   "metadata": {},
   "outputs": [
    {
     "data": {
      "text/plain": [
       "'Chances of occurance of a stroke is 4.0 %'"
      ]
     },
     "execution_count": 64,
     "metadata": {},
     "output_type": "execute_result"
    }
   ],
   "source": [
    "percentage = percent(resp)\n",
    "percentage"
   ]
  },
  {
   "cell_type": "code",
   "execution_count": null,
   "metadata": {},
   "outputs": [],
   "source": []
  }
 ],
 "metadata": {
  "kernelspec": {
   "display_name": "Python 3",
   "language": "python",
   "name": "python3"
  },
  "language_info": {
   "codemirror_mode": {
    "name": "ipython",
    "version": 3
   },
   "file_extension": ".py",
   "mimetype": "text/x-python",
   "name": "python",
   "nbconvert_exporter": "python",
   "pygments_lexer": "ipython3",
   "version": "3.8.5"
  }
 },
 "nbformat": 4,
 "nbformat_minor": 4
}
